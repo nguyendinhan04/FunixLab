{
 "cells": [
  {
   "cell_type": "code",
   "execution_count": 2,
   "metadata": {},
   "outputs": [],
   "source": [
    "from pyspark.sql import functions as f\n",
    "from pyspark.sql import SparkSession\n",
    "from pyspark.sql.types import *"
   ]
  },
  {
   "cell_type": "markdown",
   "metadata": {},
   "source": [
    "Tạo spark Session"
   ]
  },
  {
   "cell_type": "code",
   "execution_count": 6,
   "metadata": {},
   "outputs": [],
   "source": [
    "\n",
    "\n",
    "jar_list = [\n",
    "    r\"C:\\Users\\dinha\\OneDrive\\Documents\\FunixLab\\cuorse3\\ASM1\\jars\\org.mongodb_bson-4.0.5.jar\",\n",
    "    r\"C:\\Users\\dinha\\OneDrive\\Documents\\FunixLab\\cuorse3\\ASM1\\jars\\org.mongodb_mongodb-driver-core-4.0.5.jar\",\n",
    "    r\"C:\\Users\\dinha\\OneDrive\\Documents\\FunixLab\\cuorse3\\ASM1\\jars\\org.mongodb_mongodb-driver-sync-4.0.5.jar\",\n",
    "    r\"C:\\Users\\dinha\\OneDrive\\Documents\\FunixLab\\cuorse3\\ASM1\\jars\\org.mongodb.spark_mongo-spark-connector_2.12-3.0.1.jar\"\n",
    "]\n",
    "\n",
    "spark = SparkSession.builder \\\n",
    "    .master(\"local\") \\\n",
    "    .appName(\"ASM1_Spark\") \\\n",
    "    .config(\"spark.jars\", \",\".join(jar_list)) \\\n",
    "    .config(\"spark.local.dir\", r\"C:\\Users\\dinha\\OneDrive\\Documents\\FunixLab\\cuorse3\\ASM1\\temp\") \\\n",
    "    .config(\"spark.cleaner.referenceTracking\", \"true\") \\\n",
    "    .getOrCreate()"
   ]
  },
  {
   "cell_type": "markdown",
   "metadata": {},
   "source": [
    "Load dữ liệu từ source"
   ]
  },
  {
   "cell_type": "code",
   "execution_count": 7,
   "metadata": {},
   "outputs": [],
   "source": [
    "Questition_schema = StructType([\n",
    "    StructField(\"Body\",StringType()),\n",
    "    StructField(\"CreationDate\",StringType()),\n",
    "    StructField(\"ClosedDate\",StringType()),\n",
    "    StructField(\"Id\",IntegerType()),\n",
    "    StructField(\"OwnerUserId\", StringType()),\n",
    "    StructField(\"title\",StringType()),\n",
    "    StructField(\"Score\",IntegerType()),\n",
    "])\n",
    "\n",
    "Question_df = spark.read \\\n",
    "    .format(\"com.mongodb.spark.sql.DefaultSource\") \\\n",
    "    .option(\"uri\",\"mongodb://localhost:27017/ASM1_spark\") \\\n",
    "    .option(\"collection\",\"Questitions\") \\\n",
    "    .schema(Questition_schema) \\\n",
    "    .load()"
   ]
  },
  {
   "cell_type": "code",
   "execution_count": 8,
   "metadata": {},
   "outputs": [
    {
     "name": "stdout",
     "output_type": "stream",
     "text": [
      "root\n",
      " |-- Body: string (nullable = true)\n",
      " |-- CreationDate: string (nullable = true)\n",
      " |-- ClosedDate: string (nullable = true)\n",
      " |-- Id: integer (nullable = true)\n",
      " |-- OwnerUserId: string (nullable = true)\n",
      " |-- title: string (nullable = true)\n",
      " |-- Score: integer (nullable = true)\n",
      "\n"
     ]
    }
   ],
   "source": [
    "Question_df.printSchema()"
   ]
  },
  {
   "cell_type": "code",
   "execution_count": 9,
   "metadata": {},
   "outputs": [
    {
     "name": "stdout",
     "output_type": "stream",
     "text": [
      "+--------------------+--------------------+--------------------+----+-----------+-----+-----+\n",
      "|                Body|        CreationDate|          ClosedDate|  Id|OwnerUserId|title|Score|\n",
      "+--------------------+--------------------+--------------------+----+-----------+-----+-----+\n",
      "|<p>Are there any ...|2008-08-01T14:41:24Z|2012-12-26T03:45:49Z|  90|         58| NULL|  144|\n",
      "|<p>I've written a...|2008-08-01T13:57:07Z|                  NA|  80|         26| NULL|   26|\n",
      "|<p>This is someth...|2008-08-01T18:42:19Z|                  NA| 180|    2089740| NULL|   53|\n",
      "|<p>I have a littl...|2008-08-01T23:22:08Z|                  NA| 260|         91| NULL|   49|\n",
      "|<p>I am working o...|2008-08-02T02:51:36Z|                  NA| 330|         63| NULL|   29|\n",
      "|<p>I've been writ...|2008-08-02T15:11:47Z|2016-03-26T05:23:29Z| 470|         71| NULL|   13|\n",
      "|<p>Has anyone got...|2008-08-01T15:50:08Z|                  NA| 120|         83| NULL|   21|\n",
      "|<p>I'm trying to ...|2008-08-03T20:35:01Z|                  NA| 810|        233| NULL|    9|\n",
      "|<p>I wonder how y...|2008-08-02T23:30:59Z|                  NA| 580|         91| NULL|   21|\n",
      "|<p>I would like t...|2008-08-03T11:12:52Z|                  NA| 650|        143| NULL|   79|\n",
      "|<p>I'm looking fo...|2008-08-04T05:45:22Z|                  NA|1040|        254| NULL|   42|\n",
      "|<p>What's the sim...|2008-08-04T00:47:25Z|                  NA| 930|        245| NULL|   28|\n",
      "|<p>I need to grab...|2008-08-04T03:59:42Z|                  NA|1010|         67| NULL|   14|\n",
      "|<p>I am looking t...|2008-08-04T12:22:07Z|                  NA|1180|        281| NULL|   17|\n",
      "|<p>What is the co...|2008-08-04T07:34:44Z|                  NA|1070|        236| NULL|   17|\n",
      "|<p>I always creat...|2008-08-04T21:27:53Z|                  NA|1600|        230| NULL|   18|\n",
      "|<p>I am using MSB...|2008-08-04T14:55:04Z|                  NA|1300|         91| NULL|   23|\n",
      "|<p>I am using CCN...|2008-08-04T11:37:24Z|                  NA|1160|        120| NULL|   36|\n",
      "|<P>I want to be a...|2008-08-05T13:30:46Z|                  NA|2300|        193| NULL|   10|\n",
      "|<p>I'm setting up...|2008-08-04T16:33:36Z|                  NA|1390|         60| NULL|   18|\n",
      "+--------------------+--------------------+--------------------+----+-----------+-----+-----+\n",
      "only showing top 20 rows\n",
      "\n"
     ]
    }
   ],
   "source": [
    "Question_df.show()"
   ]
  },
  {
   "cell_type": "markdown",
   "metadata": {},
   "source": [
    "Chuẩn hóa dữ liệu"
   ]
  },
  {
   "cell_type": "code",
   "execution_count": 10,
   "metadata": {},
   "outputs": [
    {
     "name": "stdout",
     "output_type": "stream",
     "text": [
      "root\n",
      " |-- Body: string (nullable = true)\n",
      " |-- CreationDate: string (nullable = true)\n",
      " |-- ClosedDate: string (nullable = true)\n",
      " |-- Id: integer (nullable = true)\n",
      " |-- OwnerUserId: integer (nullable = true)\n",
      " |-- title: string (nullable = true)\n",
      " |-- Score: integer (nullable = true)\n",
      "\n",
      "+--------------------+--------------------+--------------------+----+-----------+-----+-----+\n",
      "|                Body|        CreationDate|          ClosedDate|  Id|OwnerUserId|title|Score|\n",
      "+--------------------+--------------------+--------------------+----+-----------+-----+-----+\n",
      "|<p>Are there any ...|2008-08-01T14:41:24Z|2012-12-26T03:45:49Z|  90|         58| NULL|  144|\n",
      "|<p>I've written a...|2008-08-01T13:57:07Z|                  NA|  80|         26| NULL|   26|\n",
      "|<p>This is someth...|2008-08-01T18:42:19Z|                  NA| 180|    2089740| NULL|   53|\n",
      "|<p>I have a littl...|2008-08-01T23:22:08Z|                  NA| 260|         91| NULL|   49|\n",
      "|<p>I am working o...|2008-08-02T02:51:36Z|                  NA| 330|         63| NULL|   29|\n",
      "|<p>I've been writ...|2008-08-02T15:11:47Z|2016-03-26T05:23:29Z| 470|         71| NULL|   13|\n",
      "|<p>Has anyone got...|2008-08-01T15:50:08Z|                  NA| 120|         83| NULL|   21|\n",
      "|<p>I'm trying to ...|2008-08-03T20:35:01Z|                  NA| 810|        233| NULL|    9|\n",
      "|<p>I wonder how y...|2008-08-02T23:30:59Z|                  NA| 580|         91| NULL|   21|\n",
      "|<p>I would like t...|2008-08-03T11:12:52Z|                  NA| 650|        143| NULL|   79|\n",
      "|<p>I'm looking fo...|2008-08-04T05:45:22Z|                  NA|1040|        254| NULL|   42|\n",
      "|<p>What's the sim...|2008-08-04T00:47:25Z|                  NA| 930|        245| NULL|   28|\n",
      "|<p>I need to grab...|2008-08-04T03:59:42Z|                  NA|1010|         67| NULL|   14|\n",
      "|<p>I am looking t...|2008-08-04T12:22:07Z|                  NA|1180|        281| NULL|   17|\n",
      "|<p>What is the co...|2008-08-04T07:34:44Z|                  NA|1070|        236| NULL|   17|\n",
      "|<p>I always creat...|2008-08-04T21:27:53Z|                  NA|1600|        230| NULL|   18|\n",
      "|<p>I am using MSB...|2008-08-04T14:55:04Z|                  NA|1300|         91| NULL|   23|\n",
      "|<p>I am using CCN...|2008-08-04T11:37:24Z|                  NA|1160|        120| NULL|   36|\n",
      "|<P>I want to be a...|2008-08-05T13:30:46Z|                  NA|2300|        193| NULL|   10|\n",
      "|<p>I'm setting up...|2008-08-04T16:33:36Z|                  NA|1390|         60| NULL|   18|\n",
      "+--------------------+--------------------+--------------------+----+-----------+-----+-----+\n",
      "only showing top 20 rows\n",
      "\n"
     ]
    }
   ],
   "source": [
    "Questition_converted_schema = Question_df.withColumn(\"OwnerUserId\",f.expr(\"case when OwnerUserId = 'NA' then null else OwnerUserId end\").cast(IntegerType()))\n",
    "Questition_converted_schema.printSchema()\n",
    "Questition_converted_schema.show()"
   ]
  },
  {
   "cell_type": "markdown",
   "metadata": {},
   "source": [
    "Yêu cầu 1: Tính số lần xuất hiện của các ngôn ngữ lập trình\n",
    "+-------------------+------+                                                    \n",
    "|Programing Language| Count|\n",
    "+-------------------+------+\n",
    "|                 C#| 32414|\n",
    "|                C++| 28866|\n",
    "|                CSS| 33556|\n",
    "|               HTML| 89646|\n",
    "|                PHP| 63479|\n",
    "|                SQL|146094|\n",
    "|                 Go| 79912|\n",
    "|               Ruby| 16318|\n",
    "|             Python| 44817|\n",
    "|               Java|106659|\n",
    "+-------------------+------+"
   ]
  },
  {
   "cell_type": "markdown",
   "metadata": {},
   "source": [
    "Cách xử lý thứ nhất:"
   ]
  },
  {
   "cell_type": "code",
   "execution_count": null,
   "metadata": {},
   "outputs": [],
   "source": [
    "count_word_per_record_df = Questition_converted_schema.withColumn(\"Body\",f.lower(\"Body\")) \\\n",
    "    .select(\n",
    "    f.col(\"Id\"),\n",
    "    f.col(\"Body\"), \n",
    "    f.regexp_count(\"Body\" , f.lit(r\"(?<![a-zA-Z])c#(?![a-zA-Z])\")).alias(r\"c#\"),\n",
    "    f.regexp_count(\"Body\" , f.lit(r\"(?<![a-zA-Z])c++(?![a-zA-Z])\")).alias(r\"c++\"),\n",
    "    f.regexp_count(\"Body\" , f.lit(r\"(?<![a-zA-Z])css(?![a-zA-Z])\")).alias(r\"css\"),\n",
    "    f.regexp_count(\"Body\" , f.lit(r\"(?<![a-zA-Z])html(?![a-zA-Z])\")).alias(r\"html\"),\n",
    "    f.regexp_count(\"Body\" , f.lit(r\"(?<![a-zA-Z])php(?![a-zA-Z])\")).alias(r\"php\"),\n",
    "    f.regexp_count(\"Body\" , f.lit(r\"(?<![a-zA-Z])sql(?![a-zA-Z])\")).alias(r\"sql\"),\n",
    "    f.regexp_count(\"Body\" , f.lit(r\"(?<![a-zA-Z])go(?![a-zA-Z])\")).alias(r\"go\"),\n",
    "    f.regexp_count(\"Body\" , f.lit(r\"(?<![a-zA-Z])ruby(?![a-zA-Z])\")).alias(r\"ruby\"),\n",
    "    f.regexp_count(\"Body\" , f.lit(r\"(?<![a-zA-Z])python(?![a-zA-Z])\")).alias(r\"python\"),\n",
    "    f.regexp_count(\"Body\" , f.lit(r\"(?<![a-zA-Z])java(?![a-zA-Z])\")).alias(r\"java\")\n",
    "    )\n",
    "\n",
    "total_count_df = count_word_per_record_df.agg(\n",
    "    f.sum(\"c#\").alias(\"C#\"),\n",
    "    f.sum(\"c++\").alias(\"c++\"),\n",
    "    f.sum(\"css\").alias(\"css\"),\n",
    "    f.sum(\"html\").alias(\"html\"),\n",
    "    f.sum(\"php\").alias(\"php\"),\n",
    "    f.sum(\"sql\").alias(\"sql\"),\n",
    "    f.sum(\"go\").alias(\"go\"),\n",
    "    f.sum(\"ruby\").alias(\"ruby\"),\n",
    "    f.sum(\"python\").alias(\"python\"),\n",
    "    f.sum(\"java\").alias(\"java\")\n",
    ")"
   ]
  },
  {
   "cell_type": "code",
   "execution_count": 10,
   "metadata": {},
   "outputs": [
    {
     "name": "stdout",
     "output_type": "stream",
     "text": [
      "+-----+------+------+------+------+------+-----+-----+------+------+\n",
      "|   C#|   c++|   css|  html|   php|   sql|   go| ruby|python|  java|\n",
      "+-----+------+------+------+------+------+-----+-----+------+------+\n",
      "|40439|672255|131181|385503|328627|119089|81979|68293|115873|722406|\n",
      "+-----+------+------+------+------+------+-----+-----+------+------+\n",
      "\n"
     ]
    }
   ],
   "source": [
    "total_count_df.show()"
   ]
  },
  {
   "cell_type": "markdown",
   "metadata": {},
   "source": [
    "Cách xử lý thứ 2:"
   ]
  },
  {
   "cell_type": "code",
   "execution_count": 11,
   "metadata": {},
   "outputs": [
    {
     "name": "stdout",
     "output_type": "stream",
     "text": [
      "+-------------------+------+\n",
      "|Programing language| count|\n",
      "+-------------------+------+\n",
      "|               NULL|     0|\n",
      "|                c++| 39554|\n",
      "|                sql|119089|\n",
      "|                css|131181|\n",
      "|                php|328627|\n",
      "|             python|115873|\n",
      "|               html|385503|\n",
      "|               ruby| 68293|\n",
      "|                 go| 81979|\n",
      "|               java|722406|\n",
      "|                 c#| 40439|\n",
      "+-------------------+------+\n",
      "\n"
     ]
    }
   ],
   "source": [
    "languages = [\"Java\", \"Python\", \"C\\+\\+\", \"C#\", \"Go\", \"Ruby\", \"Javascript\", \"PHP\", \"HTML\", \"CSS\", \"SQL\"]\n",
    "\n",
    "# filter_programing_languages = Questition_converted_schema.select(f.explode(f.split(f.col(\"Body\"),\" \")).alias(\"word\")) \\\n",
    "#     .withColumn(\"word\", f.lower(\"word\")) \\\n",
    "#     .filter(f.col(\"word\").rlike(\"|\".join([f\"\\\\b{lang.lower()}\\\\b\" for lang in languages])))\n",
    "\n",
    "filter_programing_languages = Questition_converted_schema.withColumn(\"word\",f.lower(\"Body\")) \\\n",
    "\n",
    "extracted_df = filter_programing_languages.select(f.regexp_extract_all(\"word\", f.lit(\"(\" + \"|\".join([fr\"(?<![a-zA-Z]){lang.lower()}(?![a-zA-Z])\" for lang in languages]) + \")\"), 0).alias(\"language\"))\n",
    "\n",
    "\n",
    "sum_programing_language_df = extracted_df.select(f.explode(\"language\").alias(\"Programing language\")) \\\n",
    "    .withColumn(\"code\", f.expr('''case when `Programing language` = 'c++' then 1\n",
    "                                when `Programing language` = 'c#' then 2\n",
    "                                when `Programing language` = 'css' then 3\n",
    "                                when `Programing language` = 'html' then 4\n",
    "                                when `Programing language` = 'php' then 5\n",
    "                                when `Programing language` = 'sql' then 6\n",
    "                                when `Programing language` = 'go' then 7\n",
    "                                when `Programing language` = 'ruby' then 8\n",
    "                                when `Programing language` = 'python' then 9\n",
    "                                when `Programing language` = 'java' then 10\n",
    "                                end''')) \\\n",
    "    .groupBy(\"code\").agg(f.count(\"code\").alias(\"count\")) \\\n",
    "    \n",
    "\n",
    "sum_programing_language_df.select(f.expr('''case when `code` = 1 then 'c++'\n",
    "                                when `code` = 2 then 'c#'\n",
    "                                when `code` = 3 then 'css'\n",
    "                                when `code` = 4 then 'html'\n",
    "                                when `code` = 5 then 'php' \n",
    "                                when `code` = 6 then 'sql'\n",
    "                                when `code` = 7 then 'go'\n",
    "                                when `code` = 8 then 'ruby' \n",
    "                                when `code` = 9 then 'python' \n",
    "                                when `code` = 10 then'java'\n",
    "                                end''').alias(\"Programing language\"), f.col(\"count\")).show()"
   ]
  },
  {
   "cell_type": "markdown",
   "metadata": {},
   "source": [
    "Yêu cầu 2: Tìm các domain được sử dụng nhiều nhất trong các câu hỏi\n",
    "Trong các câu hỏi thường chúng ta sẽ dẫn link từ các trang web khác vào. Ở yêu cầu này, bạn sẽ cần tìm xem 20 domain nào được người dùng sử dụng nhiều nhất. Chú ý rằng các domain sẽ chỉ gồm tên domain, các bạn sẽ không cần trích xuất những tham số phía sau. Ví dụ về một domain: www.google.com, www.facebook.com,...\n",
    "\n",
    "Để hoàn thành được yêu cầu này, bạn có thể sử dụng regex để trích xuất các url, sau đó áp dung một số biện pháp xử lý chuỗi để lấy ra được tên của domain, cuối cùng là dùng Aggregation để gộp nhóm lại. Kết quả sẽ như sau:\n",
    "\n",
    "+--------------------+-----+                                                 \n",
    "|              Domain|Count|\n",
    "+--------------------+-----+\n",
    "\n",
    "|   www.cs.bham.ac.uk|    4|\n",
    "|groups.csail.mit.edu|    7|\n",
    "|     fiddlertool.com|    1|\n",
    "|   www.dynagraph.org|    1|\n",
    "| images.mydomain.com|    1|\n",
    "|  img7.imageshack.us|    3|\n",
    "+--------------------+-----+"
   ]
  },
  {
   "cell_type": "code",
   "execution_count": 74,
   "metadata": {},
   "outputs": [
    {
     "name": "stdout",
     "output_type": "stream",
     "text": [
      "+--------------------+--------+\n",
      "|        explode_link|count(1)|\n",
      "+--------------------+--------+\n",
      "|   www.cs.bham.ac.uk|       3|\n",
      "|     fiddlertool.com|       1|\n",
      "|        www.faqs.org|      15|\n",
      "| support.mozilla.com|       3|\n",
      "|   www.w3schools.com|     756|\n",
      "|georgia.ubuntufor...|       2|\n",
      "| hudson.dev.java.net|       2|\n",
      "|code.msdn.microso...|     172|\n",
      "|    www.red-gate.com|      15|\n",
      "|      blogs.msdn.com|     940|\n",
      "|pandejo.blogspot.com|       2|\n",
      "|checkstyle.source...|      11|\n",
      "|  www.say-it-now.com|       1|\n",
      "|     code.google.com|    3604|\n",
      "|         osdever.net|       1|\n",
      "|         us.imdb.com|       3|\n",
      "|  www.redlizards.com|       1|\n",
      "|      ant.apache.org|      67|\n",
      "|         www.98hs.ru|      13|\n",
      "|services.nuconomy...|       1|\n",
      "+--------------------+--------+\n",
      "only showing top 20 rows\n",
      "\n"
     ]
    }
   ],
   "source": [
    "regex_pattern = r\"https?://([\\w.-]+)/\"\n",
    "\n",
    "extracted_link_df = Questition_converted_schema.select(f.regexp_extract_all(\"Body\", f.lit(regex_pattern)).alias(\"link_extracted\")).filter(f.array_size(\"link_extracted\") > 1)\n",
    "\n",
    "extracted_link_df.select(f.explode(f.col(\"link_extracted\")).alias(\"explode_link\"),f.lit(1).alias(\"1\")) \\\n",
    "    .groupBy(\"explode_link\") \\\n",
    "    .agg(f.count(f.col(\"1\"))).show()\n",
    "\n"
   ]
  },
  {
   "cell_type": "markdown",
   "metadata": {},
   "source": [
    "Yêu cầu 3 : Tính tổng điểm của User theo từng ngày\n",
    "+-----------+------------+-----+\n",
    "|OwnerUserId|CreationDate|Score|\n",
    "+-----------+------------+-----+\n",
    "|         26|  2008-08-01|   26|\n",
    "|         26|  2008-08-01|  144|\n",
    "|         83|  2008-08-01|   21|\n",
    "|    \t  83|  2008-08-02|   53|\n",
    "|         26|  2008-08-02|   29|\n",
    "+-----------+------------+-----+ "
   ]
  },
  {
   "cell_type": "code",
   "execution_count": 78,
   "metadata": {},
   "outputs": [
    {
     "data": {
      "text/plain": [
       "DataFrame[CreationDay: date, OwnerUserId: int, Total Score: bigint, Accumulative score: bigint]"
      ]
     },
     "execution_count": 78,
     "metadata": {},
     "output_type": "execute_result"
    }
   ],
   "source": [
    "from pyspark.sql import Window\n",
    "total_score_window = Window.partitionBy(\"OwnerUserId\") \\\n",
    "    .orderBy(\"CreationDay\") \\\n",
    "    .rowsBetween(Window.unboundedPreceding, Window.currentRow)\n",
    "total_score_df = Questition_converted_schema \\\n",
    "    .select(\"OwnerUserId\",f.to_date(\"CreationDate\").alias(\"CreationDay\"),\"Score\") \\\n",
    "    .filter(f.expr(\"OwnerUserId is not null\")) \\\n",
    "    .groupBy(\"CreationDay\",\"OwnerUserId\").agg(f.sum(\"Score\").alias(\"Total Score\"))\n",
    "\n",
    "\n",
    "accumulative_score_df = total_score_df \\\n",
    "    .withColumn(\"Accumulative score\",f.sum(f.col(\"Total Score\")).over(total_score_window))\n",
    "accumulative_score_df.orderBy(\"OwnerUserId\",\"CreationDay\")"
   ]
  },
  {
   "cell_type": "code",
   "execution_count": 77,
   "metadata": {},
   "outputs": [
    {
     "name": "stdout",
     "output_type": "stream",
     "text": [
      "+-----------+-----------+------------------+\n",
      "|CreationDay|OwnerUserId|Accumulative score|\n",
      "+-----------+-----------+------------------+\n",
      "| 2008-11-26|          1|                10|\n",
      "| 2009-01-08|          1|                30|\n",
      "| 2009-10-08|          1|                58|\n",
      "| 2009-01-01|          4|                 4|\n",
      "| 2009-02-14|          4|                13|\n",
      "| 2010-07-02|          4|                79|\n",
      "| 2008-12-28|          5|                 0|\n",
      "| 2009-04-08|          5|                12|\n",
      "| 2011-03-28|          5|                23|\n",
      "| 2011-04-06|          5|                25|\n",
      "| 2012-01-19|          9|                 2|\n",
      "| 2008-08-05|         17|                14|\n",
      "| 2010-09-05|         17|                15|\n",
      "| 2011-01-27|         17|                15|\n",
      "| 2010-09-22|         20|                 2|\n",
      "| 2011-04-21|         20|                 4|\n",
      "| 2011-05-19|         20|                 7|\n",
      "| 2013-08-02|         20|                 7|\n",
      "| 2012-04-27|         22|                 1|\n",
      "| 2008-12-16|         23|                27|\n",
      "+-----------+-----------+------------------+\n",
      "only showing top 20 rows\n",
      "\n"
     ]
    }
   ],
   "source": [
    "accumulative_score_df.select(f.col(\"CreationDay\"), f.col(\"OwnerUserId\"),f.col(\"Accumulative score\")).show()"
   ]
  },
  {
   "cell_type": "markdown",
   "metadata": {},
   "source": [
    "Yêu cầu 4: Tính tổng số điểm mà User đạt được trong một khoảng thời gian"
   ]
  },
  {
   "cell_type": "code",
   "execution_count": 26,
   "metadata": {},
   "outputs": [
    {
     "name": "stdout",
     "output_type": "stream",
     "text": [
      "+-----------+----------+\n",
      "|OwnerUserId|sum(Score)|\n",
      "+-----------+----------+\n",
      "|       NULL|      4644|\n",
      "|          1|        10|\n",
      "|          4|         4|\n",
      "|          5|         0|\n",
      "|         17|        14|\n",
      "|         23|        27|\n",
      "|         25|        10|\n",
      "|         26|        34|\n",
      "|         27|         9|\n",
      "|         29|       206|\n",
      "|         33|       222|\n",
      "|         35|        25|\n",
      "|         39|        16|\n",
      "|         40|         7|\n",
      "|         41|        16|\n",
      "|         45|        12|\n",
      "|         49|        22|\n",
      "|         51|        30|\n",
      "|         56|        28|\n",
      "|         58|       171|\n",
      "+-----------+----------+\n",
      "only showing top 20 rows\n",
      "\n"
     ]
    }
   ],
   "source": [
    "from pyspark.sql import Window\n",
    "START = '2008-01-01'\n",
    "END = '2009-01-01'\n",
    "\n",
    "Questition_converted_schema.select(\"OwnerUserId\",\"Score\",f.to_date(\"CreationDate\").alias(\"CreationDay\")) \\\n",
    "    .filter((f.col(\"CreationDay\") >= START) & (f.col(\"CreationDay\") <= END)) \\\n",
    "    .groupBy(\"OwnerUserId\") \\\n",
    "    .agg(f.sum(\"Score\")) \\\n",
    "    .orderBy(\"OwnerUserId\").show()"
   ]
  },
  {
   "cell_type": "markdown",
   "metadata": {},
   "source": [
    "Yêu cầu 5: Tìm các câu hỏi có nhiều câu trả lời"
   ]
  },
  {
   "cell_type": "markdown",
   "metadata": {},
   "source": [
    "Đọc dữ liệu từ Answer"
   ]
  },
  {
   "cell_type": "code",
   "execution_count": 28,
   "metadata": {},
   "outputs": [],
   "source": [
    "Answer_schema = StructType([\n",
    "    StructField(\"Body\",StringType()),\n",
    "    StructField(\"CreationDate\",StringType()),\n",
    "    StructField(\"Id\",IntegerType()),\n",
    "    StructField(\"OwnerUserId\", StringType()),\n",
    "    StructField(\"ParentId\",IntegerType()),\n",
    "    StructField(\"Score\",IntegerType()),\n",
    "])\n",
    "\n",
    "Answer_df = spark.read \\\n",
    "    .format(\"com.mongodb.spark.sql.DefaultSource\") \\\n",
    "    .option(\"uri\",\"mongodb://localhost:27017/ASM1_spark\") \\\n",
    "    .option(\"collection\",\"Answers\") \\\n",
    "    .schema(Answer_schema) \\\n",
    "    .load()"
   ]
  },
  {
   "cell_type": "markdown",
   "metadata": {},
   "source": [
    "Chuẩn hóa dữ liệu trong Awnswer DataFrame và Question DataFrame"
   ]
  },
  {
   "cell_type": "code",
   "execution_count": 36,
   "metadata": {},
   "outputs": [
    {
     "name": "stdout",
     "output_type": "stream",
     "text": [
      "root\n",
      " |-- Body: string (nullable = true)\n",
      " |-- CreationDate: date (nullable = true)\n",
      " |-- Id: integer (nullable = true)\n",
      " |-- OwnerUserId: integer (nullable = true)\n",
      " |-- ParentId: integer (nullable = true)\n",
      " |-- Score: integer (nullable = true)\n",
      "\n"
     ]
    }
   ],
   "source": [
    "Answer_converted_df = Answer_df.withColumn(\"OwnerUserId\",f.expr(\"case when OwnerUserId = 'NA' then null else OwnerUserId end\").cast(IntegerType())) \\\n",
    "    .withColumn(\"CreationDate\",f.col(\"CreationDate\").cast(DateType()))\n",
    "\n",
    "\n",
    "Answer_converted_df.printSchema()"
   ]
  },
  {
   "cell_type": "code",
   "execution_count": null,
   "metadata": {},
   "outputs": [
    {
     "name": "stdout",
     "output_type": "stream",
     "text": [
      "root\n",
      " |-- Body: string (nullable = true)\n",
      " |-- CreationDate: date (nullable = true)\n",
      " |-- ClosedDate: string (nullable = true)\n",
      " |-- Id: integer (nullable = true)\n",
      " |-- OwnerUserId: integer (nullable = true)\n",
      " |-- title: string (nullable = true)\n",
      " |-- Score: integer (nullable = true)\n",
      "\n"
     ]
    }
   ],
   "source": [
    "Questition_converted_schema2 = Questition_converted_schema.withColumn(\"CreationDate\",f.col(\"CreationDate\").cast(DateType()))"
   ]
  },
  {
   "cell_type": "code",
   "execution_count": 40,
   "metadata": {},
   "outputs": [],
   "source": [
    "Answer_df.write \\\n",
    "    .bucketBy(3,\"ParentId\") \\\n",
    "    .mode(\"overwrite\") \\\n",
    "    .saveAsTable(\"Answer_data\")\n",
    "\n",
    "\n",
    "Questition_converted_schema2.write \\\n",
    "    .bucketBy(3,\"Id\") \\\n",
    "    .mode(\"overwrite\") \\\n",
    "    .saveAsTable(\"Question_data\")"
   ]
  },
  {
   "cell_type": "code",
   "execution_count": 41,
   "metadata": {},
   "outputs": [],
   "source": [
    "Answer_converted_df.write \\\n",
    "    .bucketBy(3,\"ParentId\") \\\n",
    "    .mode(\"overwrite\") \\\n",
    "    .saveAsTable(\"Answer_converted_data\")"
   ]
  },
  {
   "cell_type": "code",
   "execution_count": 46,
   "metadata": {},
   "outputs": [],
   "source": [
    "df1 = spark.read.table(\"Question_data\")\n",
    "df2 = spark.read.table(\"Answer_converted_data\")\n",
    "\n",
    "\n",
    "join_expr = df2.ParentId == df1.Id\n",
    "join_df = df1.join(df2,join_expr,\"left\").select(f.expr(\"Question_data.id as question_id\"), f.expr(\"Answer_converted_data.Id as answerId\"))"
   ]
  },
  {
   "cell_type": "code",
   "execution_count": null,
   "metadata": {},
   "outputs": [
    {
     "name": "stdout",
     "output_type": "stream",
     "text": [
      "+-----------+--------+\n",
      "|question_id|answerId|\n",
      "+-----------+--------+\n",
      "|         80|     124|\n",
      "|         80|   10008|\n",
      "|         80| 3770976|\n",
      "|         90|      92|\n",
      "|         90|  202317|\n",
      "|         90| 1466832|\n",
      "|        180|     199|\n",
      "|        180|     529|\n",
      "|        180|     539|\n",
      "|        180|   59760|\n",
      "|        180|   93908|\n",
      "|        180|  143966|\n",
      "|        180| 1499720|\n",
      "|        180| 7815745|\n",
      "|        180|21634390|\n",
      "|        470|     473|\n",
      "|        930|     951|\n",
      "|        930|    1022|\n",
      "|        930|     940|\n",
      "|        930|    2369|\n",
      "+-----------+--------+\n",
      "only showing top 20 rows\n",
      "\n"
     ]
    }
   ],
   "source": [
    "join_df.show()"
   ]
  },
  {
   "cell_type": "code",
   "execution_count": 55,
   "metadata": {},
   "outputs": [
    {
     "name": "stdout",
     "output_type": "stream",
     "text": [
      "+------------------------+\n",
      "|Number of good questions|\n",
      "+------------------------+\n",
      "|                   23010|\n",
      "+------------------------+\n",
      "\n"
     ]
    }
   ],
   "source": [
    "join_df.groupBy(\"question_id\").agg(f.count(\"answerId\").alias(\"count\")).selectExpr(\"question_id\",\"case when count > 5 then 1 else 0 end as verify\").select(f.sum(\"verify\").alias(\"Number of good questions\")).show()"
   ]
  }
 ],
 "metadata": {
  "kernelspec": {
   "display_name": ".venv",
   "language": "python",
   "name": "python3"
  },
  "language_info": {
   "codemirror_mode": {
    "name": "ipython",
    "version": 3
   },
   "file_extension": ".py",
   "mimetype": "text/x-python",
   "name": "python",
   "nbconvert_exporter": "python",
   "pygments_lexer": "ipython3",
   "version": "3.11.0"
  }
 },
 "nbformat": 4,
 "nbformat_minor": 2
}
